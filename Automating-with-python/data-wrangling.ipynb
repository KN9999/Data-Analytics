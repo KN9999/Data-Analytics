{
 "cells": [
  {
   "cell_type": "code",
   "execution_count": 2,
   "id": "05a548d3",
   "metadata": {},
   "outputs": [],
   "source": [
    "import pandas as pd"
   ]
  },
  {
   "cell_type": "markdown",
   "id": "a9f0843b",
   "metadata": {},
   "source": [
    "Creating the lists to be compared\n",
    "\n",
    "The goal of the script is to create evenly sized lists of service providers which will ultimately be compared in a widely released publication.\n",
    "\n",
    "The process_complaints function organises and aggregates the data by complaints publication and the services area for each year and creates the lists that will further be used to in a graphic as shown in the documents.\n",
    "\n",
    "Where the complaints per 100k users is within 1 of the next service, it is added to the list. A new list is started for any service provider that isn't within 1 of the highest/lowest."
   ]
  },
  {
   "cell_type": "code",
   "execution_count": null,
   "id": "cb71390e",
   "metadata": {
    "colab": {
     "base_uri": "https://localhost:8080/"
    },
    "id": "cb71390e",
    "outputId": "4e981a5c-ff64-4e83-f409-5cfbd3cbaf9b"
   },
   "outputs": [],
   "source": [
    "def process_complaints(df, year, quarter, comparison_type):\n",
    "    # Filter the DataFrame based on the specified year and quarter\n",
    "    df_filtered = df[(df['Year'] == year) & (df['Quarter'] == quarter)]\n",
    "\n",
    "    # Check if the filtered DataFrame is empty\n",
    "    if df_filtered.empty:\n",
    "        print(f\"No data for Year {year} and Quarter {quarter}\")\n",
    "        return []\n",
    "      \n",
    "    # Initialize an empty list to store the result\n",
    "    result = []\n",
    "\n",
    "    # Group the filtered DataFrame by 'Service Area' and sort the groups\n",
    "    for service_area, group in df_filtered.groupby('Service Area'):\n",
    "        # Get the 'Complaints Publication CPs' and 'Complaints per 100000' values as lists\n",
    "        cps = group['Complaints Publication CPs'].tolist()\n",
    "        complaints_per_100000 = group['Complaints per 100000'].tolist()\n",
    "\n",
    "        # Create a list to store comparisons for the current service area\n",
    "        service_area_comparisons = []\n",
    "\n",
    "        # Sort CPs by Complaints per 100000 in descending or ascending order based on comparison_type\n",
    "        if comparison_type == 'Maximum':\n",
    "            sorted_indices = sorted(range(len(cps)), key=lambda k: complaints_per_100000[k], reverse=True)\n",
    "        elif comparison_type == 'Minimum':\n",
    "            sorted_indices = sorted(range(len(cps)), key=lambda k: complaints_per_100000[k])\n",
    "\n",
    "        sorted_cps = [cps[i] for i in sorted_indices]\n",
    "\n",
    "        # Iterate over sorted CPs to find comparisons within 1 range\n",
    "        for i in range(len(sorted_cps) - 1):\n",
    "            cp = sorted_cps[i]\n",
    "            cp_value = complaints_per_100000[sorted_indices[i]]\n",
    "\n",
    "            # Create a list to store comparisons for the current CP\n",
    "            cp_comparisons = []\n",
    "\n",
    "            for j in range(i + 1, len(sorted_cps)):\n",
    "                next_cp = sorted_cps[j]\n",
    "                next_cp_value = complaints_per_100000[sorted_indices[j]]\n",
    "\n",
    "                # Check if the absolute difference is within 1\n",
    "                if (comparison_type == 'Maximum' and abs(next_cp_value - cp_value) <= 1) or \\\n",
    "                   (comparison_type == 'Minimum' and abs(next_cp_value - cp_value) <= 1):\n",
    "                    cp_comparisons.append(next_cp)\n",
    "\n",
    "            # Only add comparisons if they are within the specified range\n",
    "            if cp_comparisons:\n",
    "                service_area_comparisons.append([cp] + cp_comparisons)\n",
    "\n",
    "        # Add service area comparisons to the result\n",
    "        if service_area_comparisons:\n",
    "            result.append((service_area, service_area_comparisons))\n",
    "\n",
    "    return result\n",
    "\n",
    "df = pd.read_excel(\"complaints_per_100000_update.xlsx\") \n",
    "\n",
    "# Example for Maximum\n",
    "result_max = process_complaints(df, 2023, 2, 'Maximum')\n",
    "\n",
    "# Print the formatted results for Maximum\n",
    "#print(\"Maximum Comparisons:\")\n",
    "#for service_area, comparisons in result_max:\n",
    "#    print(f\"{service_area}: {comparisons}\")\n",
    "\n",
    "# Example for Minimum\n",
    "result_min = process_complaints(df, 2021, 2, 'Minimum')\n",
    "\n",
    "# Print the formatted results for Minimum\n",
    "#print(\"\\nMinimum Comparisons:\")\n",
    "#for service_area, comparisons in result_min:\n",
    "#    print(f\"{service_area}: {comparisons}\")\n"
   ]
  },
  {
   "cell_type": "markdown",
   "id": "7a1d1efd",
   "metadata": {},
   "source": [
    "Filtering the lists / Removing duplication\n",
    "\n",
    "the filter_list function here removes lists that contain an element found in any other list. This is so whenever a list is used in a comparison, it is never repeated."
   ]
  },
  {
   "cell_type": "code",
   "execution_count": 6,
   "id": "TtTtYumlyNE3",
   "metadata": {
    "id": "TtTtYumlyNE3"
   },
   "outputs": [],
   "source": [
    "def filter_lists(lists):\n",
    "    i = 0\n",
    "    while i < len(lists) - 1:\n",
    "        if any(elem in lists[i] for elem in lists[i + 1]):\n",
    "            del lists[i + 1]\n",
    "            i = 0\n",
    "        else:\n",
    "            i += 1\n",
    "    return lists"
   ]
  },
  {
   "cell_type": "markdown",
   "id": "860f28d9",
   "metadata": {},
   "source": [
    "Grouping lists into serivce area"
   ]
  },
  {
   "cell_type": "code",
   "execution_count": 11,
   "id": "UKVnEym0zZpk",
   "metadata": {
    "colab": {
     "base_uri": "https://localhost:8080/"
    },
    "id": "UKVnEym0zZpk",
    "outputId": "7794a9b0-d53d-4d3d-9a03-d3d7e9eaf537"
   },
   "outputs": [
    {
     "name": "stdout",
     "output_type": "stream",
     "text": [
      "Maximum Comparisons after filtering:\n",
      "Broadband: [['Lunar', 'Phoney'], ['Blossom', 'Rapid Broadband']]\n",
      "Fixed Line: [['Phoney', 'Blossom', 'FFT', 'Lunar'], ['MOX', 'Rapid Broadband']]\n",
      "Mobile - PAYG: [['Broadband 1', 'Loud Mobile', 'CO2', 'Union', 'Boost', 'MOX']]\n",
      "Mobile Contract: [['Basic', 'Acme'], ['CO2', 'Boost']]\n",
      "\n",
      "\n",
      "Minimum Comparisons after filtering:\n",
      "Broadband: [['Basic', 'Acme'], ['Lunar', 'FFT']]\n",
      "Fixed Line: [['Basic', 'Acme'], ['MoreSpeed', 'Lunar'], ['FFT', 'Rapid Broadband']]\n",
      "Mobile - PAYG: [['Synergy', 'TopDawg', 'Union', 'CO2', 'Basic', 'Broadband 1', 'Boost'], ['Loud Mobile', 'MOX']]\n",
      "Mobile Contract: [['Lunar', 'Basic', 'Acme', 'CO2'], ['Boost', 'MOX']]\n"
     ]
    }
   ],
   "source": [
    "filtered_result_max = []\n",
    "for service_area, comparisons in result_max:\n",
    "    filtered_comparisons = filter_lists(comparisons)\n",
    "    filtered_result_max.append((service_area, filtered_comparisons))\n",
    "\n",
    "print(\"Maximum Comparisons after filtering:\")\n",
    "for service_area, comparisons in filtered_result_max:\n",
    "    print(f\"{service_area}: {comparisons}\")\n",
    "\n",
    "print(\"\\n\")\n",
    "    \n",
    "filtered_result_min = []\n",
    "for service_area, comparisons in result_min:\n",
    "    filtered_comparisons = filter_lists(comparisons)\n",
    "    filtered_result_min.append((service_area, filtered_comparisons))\n",
    "\n",
    "print(\"Minimum Comparisons after filtering:\")\n",
    "for service_area, comparisons in filtered_result_min:\n",
    "    print(f\"{service_area}: {comparisons}\")"
   ]
  }
 ],
 "metadata": {
  "colab": {
   "provenance": []
  },
  "kernelspec": {
   "display_name": "Python 3 (ipykernel)",
   "language": "python",
   "name": "python3"
  },
  "language_info": {
   "codemirror_mode": {
    "name": "ipython",
    "version": 3
   },
   "file_extension": ".py",
   "mimetype": "text/x-python",
   "name": "python",
   "nbconvert_exporter": "python",
   "pygments_lexer": "ipython3",
   "version": "3.9.13"
  }
 },
 "nbformat": 4,
 "nbformat_minor": 5
}
